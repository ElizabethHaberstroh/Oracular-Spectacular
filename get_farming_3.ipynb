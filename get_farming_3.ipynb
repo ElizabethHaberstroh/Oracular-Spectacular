{
  "nbformat": 4,
  "nbformat_minor": 0,
  "metadata": {
    "colab": {
      "provenance": [],
      "authorship_tag": "ABX9TyP0PgkO7XPDcQ/Tex3OafDW",
      "include_colab_link": true
    },
    "kernelspec": {
      "name": "python3",
      "display_name": "Python 3"
    },
    "language_info": {
      "name": "python"
    }
  },
  "cells": [
    {
      "cell_type": "markdown",
      "metadata": {
        "id": "view-in-github",
        "colab_type": "text"
      },
      "source": [
        "<a href=\"https://colab.research.google.com/github/ElizabethHaberstroh/Oracular-Spectacular/blob/main/get_farming_3.ipynb\" target=\"_parent\"><img src=\"https://colab.research.google.com/assets/colab-badge.svg\" alt=\"Open In Colab\"/></a>"
      ]
    },
    {
      "cell_type": "code",
      "execution_count": null,
      "metadata": {
        "id": "hw_jykkGYnSz"
      },
      "outputs": [],
      "source": []
    },
    {
      "cell_type": "code",
      "execution_count": null,
      "metadata": {
        "colab": {
          "base_uri": "https://localhost:8080/"
        },
        "id": "C-32Zd0uByWO",
        "outputId": "d464a232-1bfd-4101-9888-7360e91d2d6a"
      },
      "outputs": [
        {
          "output_type": "stream",
          "name": "stdout",
          "text": [
            "   farming_id                               farming_type\n",
            "0           8                     Biodynamic (certified)\n",
            "1           2                    Biodynamic (practicing)\n",
            "2           9  Haute Valeur Environnementale (certified)\n",
            "3           3                            Lutte Raisonnée\n",
            "4           6                                        N/A\n",
            "5           7                        Organic (certified)\n",
            "6           1                       Organic (practicing)\n",
            "7           5                                Sustainable\n",
            "8           4                                Traditional\n"
          ]
        }
      ],
      "source": [
        "import pandas as pd\n",
        "import re\n",
        "from google.colab import files\n",
        "\n",
        "# Step 1: Load JSON from URL\n",
        "url = \"https://kermitlynch.com/api/v1?action=getFarming\"\n",
        "df = pd.read_json(url)\n",
        "\n",
        "# Step 2: Function to remove italic formatting\n",
        "def remove_italics(text):\n",
        "    if not isinstance(text, str):\n",
        "        return text\n",
        "    text = re.sub(r\"\\*(.*?)\\*\", r\"\\1\", text)              # remove *...*\n",
        "    text = re.sub(r\"</?i>\", \"\", text, flags=re.IGNORECASE) # remove <i> tags\n",
        "    return text\n",
        "\n",
        "# Step 3: Apply cleaning to all string values\n",
        "df = df.map(remove_italics)\n",
        "\n",
        "# Step 4: Keep only the columns needed\n",
        "needed_columns = [\"id\", \"name\"]\n",
        "df = df[needed_columns]\n",
        "\n",
        "# Step 5: Rename columns\n",
        "rename_map = {\n",
        "    \"id\": \"farming_id\",\n",
        "    \"name\": \"farming_type\"\n",
        "}\n",
        "df = df.rename(columns=rename_map)\n",
        "\n",
        "print(df)\n"
      ]
    },
    {
      "cell_type": "code",
      "source": [
        "# Step 6: Save to CSV with UTF-8 preserved\n",
        "output_filename = \"get_farming_3.csv\"\n",
        "df.to_csv(output_filename, index=False, encoding=\"utf-8-sig\")\n",
        "\n",
        "# Step 7: Download the file\n",
        "files.download(output_filename)"
      ],
      "metadata": {
        "id": "9K0sxEcPZV9K",
        "outputId": "ebe2076a-9a3b-417d-a76f-1e295043e4e7",
        "colab": {
          "base_uri": "https://localhost:8080/",
          "height": 17
        }
      },
      "execution_count": null,
      "outputs": [
        {
          "output_type": "display_data",
          "data": {
            "text/plain": [
              "<IPython.core.display.Javascript object>"
            ],
            "application/javascript": [
              "\n",
              "    async function download(id, filename, size) {\n",
              "      if (!google.colab.kernel.accessAllowed) {\n",
              "        return;\n",
              "      }\n",
              "      const div = document.createElement('div');\n",
              "      const label = document.createElement('label');\n",
              "      label.textContent = `Downloading \"${filename}\": `;\n",
              "      div.appendChild(label);\n",
              "      const progress = document.createElement('progress');\n",
              "      progress.max = size;\n",
              "      div.appendChild(progress);\n",
              "      document.body.appendChild(div);\n",
              "\n",
              "      const buffers = [];\n",
              "      let downloaded = 0;\n",
              "\n",
              "      const channel = await google.colab.kernel.comms.open(id);\n",
              "      // Send a message to notify the kernel that we're ready.\n",
              "      channel.send({})\n",
              "\n",
              "      for await (const message of channel.messages) {\n",
              "        // Send a message to notify the kernel that we're ready.\n",
              "        channel.send({})\n",
              "        if (message.buffers) {\n",
              "          for (const buffer of message.buffers) {\n",
              "            buffers.push(buffer);\n",
              "            downloaded += buffer.byteLength;\n",
              "            progress.value = downloaded;\n",
              "          }\n",
              "        }\n",
              "      }\n",
              "      const blob = new Blob(buffers, {type: 'application/binary'});\n",
              "      const a = document.createElement('a');\n",
              "      a.href = window.URL.createObjectURL(blob);\n",
              "      a.download = filename;\n",
              "      div.appendChild(a);\n",
              "      a.click();\n",
              "      div.remove();\n",
              "    }\n",
              "  "
            ]
          },
          "metadata": {}
        },
        {
          "output_type": "display_data",
          "data": {
            "text/plain": [
              "<IPython.core.display.Javascript object>"
            ],
            "application/javascript": [
              "download(\"download_18e93d64-e80e-458f-9ed2-847bf6653b7c\", \"get_farming_3.csv\", 220)"
            ]
          },
          "metadata": {}
        }
      ]
    }
  ]
}