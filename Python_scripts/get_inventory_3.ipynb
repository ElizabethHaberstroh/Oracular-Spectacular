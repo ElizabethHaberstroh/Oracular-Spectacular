{
  "nbformat": 4,
  "nbformat_minor": 0,
  "metadata": {
    "colab": {
      "provenance": [],
      "include_colab_link": true
    },
    "kernelspec": {
      "name": "python3",
      "display_name": "Python 3"
    },
    "language_info": {
      "name": "python"
    }
  },
  "cells": [
    {
      "cell_type": "markdown",
      "metadata": {
        "id": "view-in-github",
        "colab_type": "text"
      },
      "source": [
        "<a href=\"https://colab.research.google.com/github/ElizabethHaberstroh/Oracular-Spectacular/blob/main/get_inventory_3.ipynb\" target=\"_parent\"><img src=\"https://colab.research.google.com/assets/colab-badge.svg\" alt=\"Open In Colab\"/></a>"
      ]
    },
    {
      "cell_type": "code",
      "execution_count": null,
      "metadata": {
        "colab": {
          "base_uri": "https://localhost:8080/",
          "height": 74
        },
        "id": "2CZbVD0AeILT",
        "outputId": "90a04073-078d-4c78-9dcd-928737c9c7ca"
      },
      "outputs": [
        {
          "output_type": "display_data",
          "data": {
            "text/plain": [
              "<IPython.core.display.HTML object>"
            ],
            "text/html": [
              "\n",
              "     <input type=\"file\" id=\"files-5f858294-5840-440b-9c13-7088fc299eb3\" name=\"files[]\" multiple disabled\n",
              "        style=\"border:none\" />\n",
              "     <output id=\"result-5f858294-5840-440b-9c13-7088fc299eb3\">\n",
              "      Upload widget is only available when the cell has been executed in the\n",
              "      current browser session. Please rerun this cell to enable.\n",
              "      </output>\n",
              "      <script>// Copyright 2017 Google LLC\n",
              "//\n",
              "// Licensed under the Apache License, Version 2.0 (the \"License\");\n",
              "// you may not use this file except in compliance with the License.\n",
              "// You may obtain a copy of the License at\n",
              "//\n",
              "//      http://www.apache.org/licenses/LICENSE-2.0\n",
              "//\n",
              "// Unless required by applicable law or agreed to in writing, software\n",
              "// distributed under the License is distributed on an \"AS IS\" BASIS,\n",
              "// WITHOUT WARRANTIES OR CONDITIONS OF ANY KIND, either express or implied.\n",
              "// See the License for the specific language governing permissions and\n",
              "// limitations under the License.\n",
              "\n",
              "/**\n",
              " * @fileoverview Helpers for google.colab Python module.\n",
              " */\n",
              "(function(scope) {\n",
              "function span(text, styleAttributes = {}) {\n",
              "  const element = document.createElement('span');\n",
              "  element.textContent = text;\n",
              "  for (const key of Object.keys(styleAttributes)) {\n",
              "    element.style[key] = styleAttributes[key];\n",
              "  }\n",
              "  return element;\n",
              "}\n",
              "\n",
              "// Max number of bytes which will be uploaded at a time.\n",
              "const MAX_PAYLOAD_SIZE = 100 * 1024;\n",
              "\n",
              "function _uploadFiles(inputId, outputId) {\n",
              "  const steps = uploadFilesStep(inputId, outputId);\n",
              "  const outputElement = document.getElementById(outputId);\n",
              "  // Cache steps on the outputElement to make it available for the next call\n",
              "  // to uploadFilesContinue from Python.\n",
              "  outputElement.steps = steps;\n",
              "\n",
              "  return _uploadFilesContinue(outputId);\n",
              "}\n",
              "\n",
              "// This is roughly an async generator (not supported in the browser yet),\n",
              "// where there are multiple asynchronous steps and the Python side is going\n",
              "// to poll for completion of each step.\n",
              "// This uses a Promise to block the python side on completion of each step,\n",
              "// then passes the result of the previous step as the input to the next step.\n",
              "function _uploadFilesContinue(outputId) {\n",
              "  const outputElement = document.getElementById(outputId);\n",
              "  const steps = outputElement.steps;\n",
              "\n",
              "  const next = steps.next(outputElement.lastPromiseValue);\n",
              "  return Promise.resolve(next.value.promise).then((value) => {\n",
              "    // Cache the last promise value to make it available to the next\n",
              "    // step of the generator.\n",
              "    outputElement.lastPromiseValue = value;\n",
              "    return next.value.response;\n",
              "  });\n",
              "}\n",
              "\n",
              "/**\n",
              " * Generator function which is called between each async step of the upload\n",
              " * process.\n",
              " * @param {string} inputId Element ID of the input file picker element.\n",
              " * @param {string} outputId Element ID of the output display.\n",
              " * @return {!Iterable<!Object>} Iterable of next steps.\n",
              " */\n",
              "function* uploadFilesStep(inputId, outputId) {\n",
              "  const inputElement = document.getElementById(inputId);\n",
              "  inputElement.disabled = false;\n",
              "\n",
              "  const outputElement = document.getElementById(outputId);\n",
              "  outputElement.innerHTML = '';\n",
              "\n",
              "  const pickedPromise = new Promise((resolve) => {\n",
              "    inputElement.addEventListener('change', (e) => {\n",
              "      resolve(e.target.files);\n",
              "    });\n",
              "  });\n",
              "\n",
              "  const cancel = document.createElement('button');\n",
              "  inputElement.parentElement.appendChild(cancel);\n",
              "  cancel.textContent = 'Cancel upload';\n",
              "  const cancelPromise = new Promise((resolve) => {\n",
              "    cancel.onclick = () => {\n",
              "      resolve(null);\n",
              "    };\n",
              "  });\n",
              "\n",
              "  // Wait for the user to pick the files.\n",
              "  const files = yield {\n",
              "    promise: Promise.race([pickedPromise, cancelPromise]),\n",
              "    response: {\n",
              "      action: 'starting',\n",
              "    }\n",
              "  };\n",
              "\n",
              "  cancel.remove();\n",
              "\n",
              "  // Disable the input element since further picks are not allowed.\n",
              "  inputElement.disabled = true;\n",
              "\n",
              "  if (!files) {\n",
              "    return {\n",
              "      response: {\n",
              "        action: 'complete',\n",
              "      }\n",
              "    };\n",
              "  }\n",
              "\n",
              "  for (const file of files) {\n",
              "    const li = document.createElement('li');\n",
              "    li.append(span(file.name, {fontWeight: 'bold'}));\n",
              "    li.append(span(\n",
              "        `(${file.type || 'n/a'}) - ${file.size} bytes, ` +\n",
              "        `last modified: ${\n",
              "            file.lastModifiedDate ? file.lastModifiedDate.toLocaleDateString() :\n",
              "                                    'n/a'} - `));\n",
              "    const percent = span('0% done');\n",
              "    li.appendChild(percent);\n",
              "\n",
              "    outputElement.appendChild(li);\n",
              "\n",
              "    const fileDataPromise = new Promise((resolve) => {\n",
              "      const reader = new FileReader();\n",
              "      reader.onload = (e) => {\n",
              "        resolve(e.target.result);\n",
              "      };\n",
              "      reader.readAsArrayBuffer(file);\n",
              "    });\n",
              "    // Wait for the data to be ready.\n",
              "    let fileData = yield {\n",
              "      promise: fileDataPromise,\n",
              "      response: {\n",
              "        action: 'continue',\n",
              "      }\n",
              "    };\n",
              "\n",
              "    // Use a chunked sending to avoid message size limits. See b/62115660.\n",
              "    let position = 0;\n",
              "    do {\n",
              "      const length = Math.min(fileData.byteLength - position, MAX_PAYLOAD_SIZE);\n",
              "      const chunk = new Uint8Array(fileData, position, length);\n",
              "      position += length;\n",
              "\n",
              "      const base64 = btoa(String.fromCharCode.apply(null, chunk));\n",
              "      yield {\n",
              "        response: {\n",
              "          action: 'append',\n",
              "          file: file.name,\n",
              "          data: base64,\n",
              "        },\n",
              "      };\n",
              "\n",
              "      let percentDone = fileData.byteLength === 0 ?\n",
              "          100 :\n",
              "          Math.round((position / fileData.byteLength) * 100);\n",
              "      percent.textContent = `${percentDone}% done`;\n",
              "\n",
              "    } while (position < fileData.byteLength);\n",
              "  }\n",
              "\n",
              "  // All done.\n",
              "  yield {\n",
              "    response: {\n",
              "      action: 'complete',\n",
              "    }\n",
              "  };\n",
              "}\n",
              "\n",
              "scope.google = scope.google || {};\n",
              "scope.google.colab = scope.google.colab || {};\n",
              "scope.google.colab._files = {\n",
              "  _uploadFiles,\n",
              "  _uploadFilesContinue,\n",
              "};\n",
              "})(self);\n",
              "</script> "
            ]
          },
          "metadata": {}
        },
        {
          "output_type": "stream",
          "name": "stdout",
          "text": [
            "Saving Inventory.rtf to Inventory (7).rtf\n"
          ]
        }
      ],
      "source": [
        "from google.colab import files\n",
        "uploaded = files.upload()"
      ]
    },
    {
      "cell_type": "code",
      "source": [
        "!pip -q install striprtf"
      ],
      "metadata": {
        "id": "eDsctv3TgmcK"
      },
      "execution_count": null,
      "outputs": []
    },
    {
      "cell_type": "code",
      "source": [
        "import json, pandas as pd, re\n",
        "from striprtf.striprtf import rtf_to_text"
      ],
      "metadata": {
        "id": "aWu0ufEPgsus"
      },
      "execution_count": null,
      "outputs": []
    },
    {
      "cell_type": "code",
      "source": [
        "rtf_file = list(uploaded.keys())[0]\n",
        "raw = open(rtf_file, 'r').read()\n",
        "text = rtf_to_text(raw)"
      ],
      "metadata": {
        "id": "Zh0FbTHKg1r0"
      },
      "execution_count": null,
      "outputs": []
    },
    {
      "cell_type": "code",
      "source": [
        "l = text.find('[')\n",
        "r = text.rfind(']')\n",
        "json_text = text[l:r+1]"
      ],
      "metadata": {
        "id": "iryUhl6shBGC"
      },
      "execution_count": null,
      "outputs": []
    },
    {
      "cell_type": "code",
      "source": [
        "json_text = re.sub(r'[\\t]+', '', json_text)\n",
        "json_text = re.sub(r'[\\n]+', '', json_text)"
      ],
      "metadata": {
        "id": "zPOJXzJ7hUq1"
      },
      "execution_count": null,
      "outputs": []
    },
    {
      "cell_type": "code",
      "source": [
        "data = json.loads(json_text)\n",
        "df = pd.json_normalize(data)"
      ],
      "metadata": {
        "id": "hVxCvUWvhiYr"
      },
      "execution_count": null,
      "outputs": []
    },
    {
      "cell_type": "code",
      "source": [
        "out_csv = \"Inventory_clean.csv\"\n",
        "df.to_csv(out_csv, index=False)\n",
        "\n",
        "files.download(out_csv)"
      ],
      "metadata": {
        "colab": {
          "base_uri": "https://localhost:8080/",
          "height": 17
        },
        "id": "37E7kYhvhtRM",
        "outputId": "2bb4adba-c47e-4ef4-9c96-7464cd1a84f2"
      },
      "execution_count": null,
      "outputs": [
        {
          "output_type": "display_data",
          "data": {
            "text/plain": [
              "<IPython.core.display.Javascript object>"
            ],
            "application/javascript": [
              "\n",
              "    async function download(id, filename, size) {\n",
              "      if (!google.colab.kernel.accessAllowed) {\n",
              "        return;\n",
              "      }\n",
              "      const div = document.createElement('div');\n",
              "      const label = document.createElement('label');\n",
              "      label.textContent = `Downloading \"${filename}\": `;\n",
              "      div.appendChild(label);\n",
              "      const progress = document.createElement('progress');\n",
              "      progress.max = size;\n",
              "      div.appendChild(progress);\n",
              "      document.body.appendChild(div);\n",
              "\n",
              "      const buffers = [];\n",
              "      let downloaded = 0;\n",
              "\n",
              "      const channel = await google.colab.kernel.comms.open(id);\n",
              "      // Send a message to notify the kernel that we're ready.\n",
              "      channel.send({})\n",
              "\n",
              "      for await (const message of channel.messages) {\n",
              "        // Send a message to notify the kernel that we're ready.\n",
              "        channel.send({})\n",
              "        if (message.buffers) {\n",
              "          for (const buffer of message.buffers) {\n",
              "            buffers.push(buffer);\n",
              "            downloaded += buffer.byteLength;\n",
              "            progress.value = downloaded;\n",
              "          }\n",
              "        }\n",
              "      }\n",
              "      const blob = new Blob(buffers, {type: 'application/binary'});\n",
              "      const a = document.createElement('a');\n",
              "      a.href = window.URL.createObjectURL(blob);\n",
              "      a.download = filename;\n",
              "      div.appendChild(a);\n",
              "      a.click();\n",
              "      div.remove();\n",
              "    }\n",
              "  "
            ]
          },
          "metadata": {}
        },
        {
          "output_type": "display_data",
          "data": {
            "text/plain": [
              "<IPython.core.display.Javascript object>"
            ],
            "application/javascript": [
              "download(\"download_9c13c08e-eae5-4bfc-9bfc-3cfb9893b097\", \"Inventory_clean.csv\", 1222287)"
            ]
          },
          "metadata": {}
        }
      ]
    },
    {
      "cell_type": "code",
      "source": [
        "import pandas as pd\n",
        "\n",
        "df = pd.read_csv(\"Inventory_clean.csv\")\n"
      ],
      "metadata": {
        "id": "vjQRJ4NsiUul"
      },
      "execution_count": null,
      "outputs": []
    },
    {
      "cell_type": "code",
      "source": [
        "# Remove italic formatting\n",
        "def remove_italics(text):\n",
        "    if not isinstance(text, str):\n",
        "        return text\n",
        "    text = re.sub(r\"\\*(.*?)\\*\", r\"\\1\", text)              # remove *...*\n",
        "    text = re.sub(r\"</?i>\", \"\", text, flags=re.IGNORECASE) # remove <i> tags\n",
        "    text = re.sub(r\"</?em>\", \"\", text, flags=re.IGNORECASE) # remove <em> tags\n",
        "    return text\n",
        "\n",
        "# Apply cleaning to all string values\n",
        "df = df.map(remove_italics)\n",
        "\n",
        "# Clean HTML tags\n",
        "def clean_html(text):\n",
        "    if not isinstance(text, str):\n",
        "        return text\n",
        "    # Replace <br> (and variants like <br/>, <br />) with a space\n",
        "    text = re.sub(r\"<br\\s*/?>\", \" \", text, flags=re.IGNORECASE)\n",
        "    # Remove all other HTML tags\n",
        "    text = re.sub(r\"<[^>]+>\", \"\", text)\n",
        "    # Optional: strip leading/trailing whitespace\n",
        "    text = text.strip()\n",
        "    return text\n",
        "\n",
        "# Apply cleaning to all string values\n",
        "df = df.map(clean_html)\n",
        "\n",
        "# Keep only needed columns\n",
        "needed_columns = [\"bottle_size\", \"country\", \"name\", \"price\", \"producer\", \"region\", \"varietal\", \"farming_type\", \"vintage\", \"wine_type\"]\n",
        "df = df[needed_columns]\n",
        "\n",
        "# Rename columns\n",
        "rename_map = {\n",
        "    \"country\": \"country_name\",\n",
        "    \"name\": \"wine_name\",\n",
        "    \"producer\": \"producer_name\",\n",
        "    \"region\": \"region_name\",\n",
        "    \"varietal\": \"grape_varietal\"\n",
        "}\n",
        "df = df.rename(columns=rename_map)\n",
        "\n",
        "#Select types of wines\n",
        "allowed_types = [\"WHITE\", \"RED\", \"SPARKLING\", \"ROSE\"]\n",
        "df = df[df[\"wine_type\"].isin(allowed_types)]\n",
        "\n",
        "#Split multi valued cells\n",
        "df = df.assign(grape_varietal=df[\"grape_varietal\"].str.split(\", \"))\n",
        "df = df.explode(\"grape_varietal\")\n",
        "\n",
        "df = df.dropna(how=\"any\")\n",
        "\n",
        "print(df)"
      ],
      "metadata": {
        "colab": {
          "base_uri": "https://localhost:8080/"
        },
        "id": "gMlI1v1S_Ffx",
        "outputId": "e9f11db4-ae96-4113-b5ff-eb7be20894cc"
      },
      "execution_count": null,
      "outputs": [
        {
          "output_type": "stream",
          "name": "stdout",
          "text": [
            "    bottle_size country_name  \\\n",
            "0         750mL       France   \n",
            "1         750mL       France   \n",
            "3         750mL       France   \n",
            "4         750mL        Italy   \n",
            "5         750mL        Italy   \n",
            "..          ...          ...   \n",
            "872       750mL       France   \n",
            "873       750mL        Italy   \n",
            "874       750mL       France   \n",
            "875       750mL       France   \n",
            "876       750mL       France   \n",
            "\n",
            "                                             wine_name  price  \\\n",
            "0      2022 Saint-Véran “Les Pommards Vieilles Vignes”   55.0   \n",
            "1                          2022 Riesling “Clos Mathis”   62.0   \n",
            "3                                    2020 Bandol Rouge   52.0   \n",
            "4                2023 Erbaluce di Caluso “Tredicimesi”   47.0   \n",
            "5    2020 Friuli Colli Orientali Refosco Peduncolo ...   58.0   \n",
            "..                                                 ...    ...   \n",
            "872             2018 Vin de France “Grenache Oxydatif”   69.0   \n",
            "873                 2019 Alto Adige Sauvignon “Voglar”   39.0   \n",
            "874         2019 Gewurztraminer Grand Cru “Furstentum”   54.0   \n",
            "875                2020 Atlantique Blanc “Déclinaison”   48.0   \n",
            "876                          2022 Pic Saint-Loup Rouge   28.0   \n",
            "\n",
            "               producer_name           region_name   grape_varietal  \\\n",
            "0    Domaine Robert-Denogent              Burgundy       Chardonnay   \n",
            "1           Domaine Ostertag                Alsace         Riesling   \n",
            "3      Domaine de Terrebrune              Provence  Mourvèdre Blend   \n",
            "4             Cantina Favaro              Piedmont         Erbaluce   \n",
            "5           Vignai da Duline                Friuli          Refosco   \n",
            "..                       ...                   ...              ...   \n",
            "872         Ludovic Engelvin  Languedoc-Roussillon         Grenache   \n",
            "873             Peter Dipoli            Alto Adige  Sauvignon Blanc   \n",
            "874              Meyer-Fonné                Alsace   Gewurztraminer   \n",
            "875    Domaine de l'Alliance              Bordeaux         Sémillon   \n",
            "876         Château Fontanès  Languedoc-Roussillon      Syrah Blend   \n",
            "\n",
            "                farming_type vintage wine_type  \n",
            "0     Biodynamic (certified)    2022     WHITE  \n",
            "1     Biodynamic (certified)    2022     WHITE  \n",
            "3        Organic (certified)    2020       RED  \n",
            "4        Organic (certified)    2023     WHITE  \n",
            "5       Organic (practicing)    2020       RED  \n",
            "..                       ...     ...       ...  \n",
            "872     Organic (practicing)    2018       RED  \n",
            "873              Sustainable    2019     WHITE  \n",
            "874     Organic (practicing)    2019     WHITE  \n",
            "875     Organic (practicing)    2020     WHITE  \n",
            "876  Biodynamic (practicing)    2022       RED  \n",
            "\n",
            "[818 rows x 10 columns]\n"
          ]
        }
      ]
    },
    {
      "cell_type": "code",
      "source": [
        "# Save to CSV with UTF-8 preserved\n",
        "output_filename = \"get_inventory_3.csv\"\n",
        "df.to_csv(output_filename, index=False, encoding=\"utf-8-sig\")\n",
        "\n",
        "# Download the file\n",
        "files.download(output_filename)"
      ],
      "metadata": {
        "colab": {
          "base_uri": "https://localhost:8080/",
          "height": 17
        },
        "id": "lnpKiTmC5NgL",
        "outputId": "b3f0013c-2e05-47e6-d241-32f4c7cd55ad"
      },
      "execution_count": null,
      "outputs": [
        {
          "output_type": "display_data",
          "data": {
            "text/plain": [
              "<IPython.core.display.Javascript object>"
            ],
            "application/javascript": [
              "\n",
              "    async function download(id, filename, size) {\n",
              "      if (!google.colab.kernel.accessAllowed) {\n",
              "        return;\n",
              "      }\n",
              "      const div = document.createElement('div');\n",
              "      const label = document.createElement('label');\n",
              "      label.textContent = `Downloading \"${filename}\": `;\n",
              "      div.appendChild(label);\n",
              "      const progress = document.createElement('progress');\n",
              "      progress.max = size;\n",
              "      div.appendChild(progress);\n",
              "      document.body.appendChild(div);\n",
              "\n",
              "      const buffers = [];\n",
              "      let downloaded = 0;\n",
              "\n",
              "      const channel = await google.colab.kernel.comms.open(id);\n",
              "      // Send a message to notify the kernel that we're ready.\n",
              "      channel.send({})\n",
              "\n",
              "      for await (const message of channel.messages) {\n",
              "        // Send a message to notify the kernel that we're ready.\n",
              "        channel.send({})\n",
              "        if (message.buffers) {\n",
              "          for (const buffer of message.buffers) {\n",
              "            buffers.push(buffer);\n",
              "            downloaded += buffer.byteLength;\n",
              "            progress.value = downloaded;\n",
              "          }\n",
              "        }\n",
              "      }\n",
              "      const blob = new Blob(buffers, {type: 'application/binary'});\n",
              "      const a = document.createElement('a');\n",
              "      a.href = window.URL.createObjectURL(blob);\n",
              "      a.download = filename;\n",
              "      div.appendChild(a);\n",
              "      a.click();\n",
              "      div.remove();\n",
              "    }\n",
              "  "
            ]
          },
          "metadata": {}
        },
        {
          "output_type": "display_data",
          "data": {
            "text/plain": [
              "<IPython.core.display.Javascript object>"
            ],
            "application/javascript": [
              "download(\"download_297d0f8c-92cd-444f-b841-086bd956c950\", \"get_inventory_3.csv\", 102781)"
            ]
          },
          "metadata": {}
        }
      ]
    }
  ]
}
