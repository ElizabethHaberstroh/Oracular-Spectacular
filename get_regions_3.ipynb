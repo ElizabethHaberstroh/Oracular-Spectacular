{
  "nbformat": 4,
  "nbformat_minor": 0,
  "metadata": {
    "colab": {
      "provenance": [],
      "authorship_tag": "ABX9TyPHE9nBr8HPnbzRsyycC3RR",
      "include_colab_link": true
    },
    "kernelspec": {
      "name": "python3",
      "display_name": "Python 3"
    },
    "language_info": {
      "name": "python"
    }
  },
  "cells": [
    {
      "cell_type": "markdown",
      "metadata": {
        "id": "view-in-github",
        "colab_type": "text"
      },
      "source": [
        "<a href=\"https://colab.research.google.com/github/ElizabethHaberstroh/Oracular-Spectacular/blob/main/get_regions_3.ipynb\" target=\"_parent\"><img src=\"https://colab.research.google.com/assets/colab-badge.svg\" alt=\"Open In Colab\"/></a>"
      ]
    },
    {
      "cell_type": "code",
      "execution_count": null,
      "metadata": {
        "colab": {
          "base_uri": "https://localhost:8080/"
        },
        "id": "C-32Zd0uByWO",
        "outputId": "26f3bee8-a098-43ca-887c-e8b65b012e71"
      },
      "outputs": [
        {
          "output_type": "stream",
          "name": "stdout",
          "text": [
            "    region_id                  region_name  country_id country_name\n",
            "0           1                       Alsace           1       France\n",
            "1          24                   Alto Adige           2        Italy\n",
            "2           2                   Beaujolais           1       France\n",
            "3           3                     Bordeaux           1       France\n",
            "4          10                     Burgundy           1       France\n",
            "5          34                     Campania           2        Italy\n",
            "6           4                    Champagne           1       France\n",
            "7           5                      Corsica           1       France\n",
            "8          22               Emilia-Romagna           2        Italy\n",
            "9          17                       Friuli           2        Italy\n",
            "10         20                         Jura           1       France\n",
            "11          6         Languedoc-Roussillon           1       France\n",
            "12         13                      Liguria           2        Italy\n",
            "13          7                        Loire           1       France\n",
            "14         35                     Lombardy           2        Italy\n",
            "15         36                       Marche           2        Italy\n",
            "16         39                       Molise           2        Italy\n",
            "17          9               Northern Rhône           1       France\n",
            "18         14                     Piedmont           2        Italy\n",
            "19          8                     Provence           1       France\n",
            "20         38                       Puglia           2        Italy\n",
            "21         37                     Sardinia           2        Italy\n",
            "22         19  Savoie, Bugey, Hautes-Alpes           1       France\n",
            "23         21                       Sicily           2        Italy\n",
            "24         12               Southern Rhône           1       France\n",
            "25         11                    Southwest           1       France\n",
            "26         15                      Tuscany           2        Italy\n",
            "27         23                Valle d'Aosta           2        Italy\n",
            "28         16                       Veneto           2        Italy\n"
          ]
        }
      ],
      "source": [
        "import pandas as pd\n",
        "import re\n",
        "from google.colab import files\n",
        "\n",
        "# Step 1: Load JSON from URL\n",
        "url = \"https://kermitlynch.com/api/v1?action=getRegions\"\n",
        "df = pd.read_json(url)\n",
        "\n",
        "# Step 2: Function to remove italic formatting\n",
        "def remove_italics(text):\n",
        "    if not isinstance(text, str):\n",
        "        return text\n",
        "    text = re.sub(r\"\\*(.*?)\\*\", r\"\\1\", text)              # remove *...*\n",
        "    text = re.sub(r\"</?i>\", \"\", text, flags=re.IGNORECASE) # remove <i> tags\n",
        "    return text\n",
        "\n",
        "# Step 3: Apply cleaning to all string values\n",
        "df = df.map(remove_italics)\n",
        "\n",
        "# Step 4: Keep only needed columns\n",
        "needed_columns = [\"id\", \"name\", \"country\"]\n",
        "df = df[needed_columns]\n",
        "\n",
        "# Step 5: Rename columns\n",
        "rename_map = {\n",
        "    \"id\": \"region_id\",\n",
        "    \"name\": \"region_name\",\n",
        "    \"country\": \"country_id\"\n",
        "}\n",
        "df = df.rename(columns=rename_map)\n",
        "\n",
        "# Create mapping for country_id → country_name\n",
        "country_map = {\n",
        "    1: \"France\",\n",
        "    2: \"Italy\"\n",
        "}\n",
        "\n",
        "# Create new column using map()\n",
        "df[\"country_name\"] = df[\"country_id\"].map(country_map)\n",
        "\n",
        "print(df)\n"
      ]
    },
    {
      "cell_type": "code",
      "source": [
        "# Step 6: Save to CSV with UTF-8 preserved\n",
        "output_filename = \"get_regions_3.csv\"\n",
        "df.to_csv(output_filename, index=False, encoding=\"utf-8-sig\")\n",
        "\n",
        "# Step 7: Download the file\n",
        "files.download(output_filename)"
      ],
      "metadata": {
        "colab": {
          "base_uri": "https://localhost:8080/",
          "height": 17
        },
        "id": "46d0qkaTNtrs",
        "outputId": "766c852f-f717-4820-f8de-a573e9a035fe"
      },
      "execution_count": null,
      "outputs": [
        {
          "output_type": "display_data",
          "data": {
            "text/plain": [
              "<IPython.core.display.Javascript object>"
            ],
            "application/javascript": [
              "\n",
              "    async function download(id, filename, size) {\n",
              "      if (!google.colab.kernel.accessAllowed) {\n",
              "        return;\n",
              "      }\n",
              "      const div = document.createElement('div');\n",
              "      const label = document.createElement('label');\n",
              "      label.textContent = `Downloading \"${filename}\": `;\n",
              "      div.appendChild(label);\n",
              "      const progress = document.createElement('progress');\n",
              "      progress.max = size;\n",
              "      div.appendChild(progress);\n",
              "      document.body.appendChild(div);\n",
              "\n",
              "      const buffers = [];\n",
              "      let downloaded = 0;\n",
              "\n",
              "      const channel = await google.colab.kernel.comms.open(id);\n",
              "      // Send a message to notify the kernel that we're ready.\n",
              "      channel.send({})\n",
              "\n",
              "      for await (const message of channel.messages) {\n",
              "        // Send a message to notify the kernel that we're ready.\n",
              "        channel.send({})\n",
              "        if (message.buffers) {\n",
              "          for (const buffer of message.buffers) {\n",
              "            buffers.push(buffer);\n",
              "            downloaded += buffer.byteLength;\n",
              "            progress.value = downloaded;\n",
              "          }\n",
              "        }\n",
              "      }\n",
              "      const blob = new Blob(buffers, {type: 'application/binary'});\n",
              "      const a = document.createElement('a');\n",
              "      a.href = window.URL.createObjectURL(blob);\n",
              "      a.download = filename;\n",
              "      div.appendChild(a);\n",
              "      a.click();\n",
              "      div.remove();\n",
              "    }\n",
              "  "
            ]
          },
          "metadata": {}
        },
        {
          "output_type": "display_data",
          "data": {
            "text/plain": [
              "<IPython.core.display.Javascript object>"
            ],
            "application/javascript": [
              "download(\"download_65f046a4-5f0a-480b-9fb5-e322838f2fbd\", \"get_regions_3.csv\", 674)"
            ]
          },
          "metadata": {}
        }
      ]
    }
  ]
}