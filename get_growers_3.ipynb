{
  "nbformat": 4,
  "nbformat_minor": 0,
  "metadata": {
    "colab": {
      "provenance": [],
      "authorship_tag": "ABX9TyOr5T2UjV1Fr66d1o0lrpQu",
      "include_colab_link": true
    },
    "kernelspec": {
      "name": "python3",
      "display_name": "Python 3"
    },
    "language_info": {
      "name": "python"
    }
  },
  "cells": [
    {
      "cell_type": "markdown",
      "metadata": {
        "id": "view-in-github",
        "colab_type": "text"
      },
      "source": [
        "<a href=\"https://colab.research.google.com/github/ElizabethHaberstroh/Oracular-Spectacular/blob/main/get_growers_3.ipynb\" target=\"_parent\"><img src=\"https://colab.research.google.com/assets/colab-badge.svg\" alt=\"Open In Colab\"/></a>"
      ]
    },
    {
      "cell_type": "code",
      "execution_count": null,
      "metadata": {
        "colab": {
          "base_uri": "https://localhost:8080/"
        },
        "id": "ykPwQmzlZk2p",
        "outputId": "c36b17f3-674a-49fc-b608-75b0146520e2"
      },
      "outputs": [
        {
          "output_type": "stream",
          "name": "stdout",
          "text": [
            "     producer_id              producer_name  country_id  region_id farming_id\n",
            "0             62    Domaine Comte Abbatucci           1          5          8\n",
            "1             94     Domaine Achard-Vincent           1         12          7\n",
            "2             94     Domaine Achard-Vincent           1         12          8\n",
            "3             45           Thierry Allemand           1          9          1\n",
            "4            146      Domaine de l’Alliance           1          3          1\n",
            "..           ...                        ...         ...        ...        ...\n",
            "227          185             Davide Vignato           2         16          2\n",
            "228          185             Davide Vignato           2         16          7\n",
            "229          153        Les Vignes Oubliées           1          6          1\n",
            "230          201            Vigneti Vecchio           2         21          1\n",
            "231           32  Domaine Jean-Marc Vincent           1         10          1\n",
            "\n",
            "[232 rows x 5 columns]\n"
          ]
        }
      ],
      "source": [
        "import pandas as pd\n",
        "import re\n",
        "from google.colab import files\n",
        "\n",
        "# Load JSON from URL\n",
        "url = \"https://kermitlynch.com/api/v1?action=getGrowers\"\n",
        "df = pd.read_json(url)\n",
        "\n",
        "# Remove italic formatting\n",
        "def remove_italics(text):\n",
        "    if not isinstance(text, str):\n",
        "        return text\n",
        "    text = re.sub(r\"\\*(.*?)\\*\", r\"\\1\", text)              # remove *...*\n",
        "    text = re.sub(r\"</?i>\", \"\", text, flags=re.IGNORECASE) # remove <i> tags\n",
        "    return text\n",
        "\n",
        "# Apply cleaning to all string values\n",
        "df = df.map(remove_italics)\n",
        "\n",
        "# Keep only needed columns\n",
        "needed_columns = [\"id\", \"name\", \"country\", \"region\", \"farming\"]\n",
        "df = df[needed_columns]\n",
        "\n",
        "# Rename columns\n",
        "rename_map = {\n",
        "    \"id\": \"producer_id\",\n",
        "    \"name\": \"producer_name\",\n",
        "    \"country\": \"country_id\",\n",
        "    \"region\": \"region_id\",\n",
        "    \"farming\": \"farming_id\"\n",
        "}\n",
        "df = df.rename(columns=rename_map)\n",
        "\n",
        "# Normalize farming (split into multiple rows)\n",
        "df[\"farming_id\"] = df[\"farming_id\"].astype(str).str.split(\",\")\n",
        "df = df.explode(\"farming_id\").reset_index(drop=True)\n",
        "print(df)"
      ]
    },
    {
      "cell_type": "code",
      "source": [
        "# Save to CSV with UTF-8 preserved\n",
        "output_filename = \"get_growers_3.csv\"\n",
        "df.to_csv(output_filename, index=False, encoding=\"utf-8-sig\")\n",
        "\n",
        "# Download the file\n",
        "files.download(output_filename)"
      ],
      "metadata": {
        "colab": {
          "base_uri": "https://localhost:8080/",
          "height": 17
        },
        "id": "MhoHh559_Hcd",
        "outputId": "ab3cd740-059c-4b5c-81e9-3891dea3c515"
      },
      "execution_count": null,
      "outputs": [
        {
          "output_type": "display_data",
          "data": {
            "text/plain": [
              "<IPython.core.display.Javascript object>"
            ],
            "application/javascript": [
              "\n",
              "    async function download(id, filename, size) {\n",
              "      if (!google.colab.kernel.accessAllowed) {\n",
              "        return;\n",
              "      }\n",
              "      const div = document.createElement('div');\n",
              "      const label = document.createElement('label');\n",
              "      label.textContent = `Downloading \"${filename}\": `;\n",
              "      div.appendChild(label);\n",
              "      const progress = document.createElement('progress');\n",
              "      progress.max = size;\n",
              "      div.appendChild(progress);\n",
              "      document.body.appendChild(div);\n",
              "\n",
              "      const buffers = [];\n",
              "      let downloaded = 0;\n",
              "\n",
              "      const channel = await google.colab.kernel.comms.open(id);\n",
              "      // Send a message to notify the kernel that we're ready.\n",
              "      channel.send({})\n",
              "\n",
              "      for await (const message of channel.messages) {\n",
              "        // Send a message to notify the kernel that we're ready.\n",
              "        channel.send({})\n",
              "        if (message.buffers) {\n",
              "          for (const buffer of message.buffers) {\n",
              "            buffers.push(buffer);\n",
              "            downloaded += buffer.byteLength;\n",
              "            progress.value = downloaded;\n",
              "          }\n",
              "        }\n",
              "      }\n",
              "      const blob = new Blob(buffers, {type: 'application/binary'});\n",
              "      const a = document.createElement('a');\n",
              "      a.href = window.URL.createObjectURL(blob);\n",
              "      a.download = filename;\n",
              "      div.appendChild(a);\n",
              "      a.click();\n",
              "      div.remove();\n",
              "    }\n",
              "  "
            ]
          },
          "metadata": {}
        },
        {
          "output_type": "display_data",
          "data": {
            "text/plain": [
              "<IPython.core.display.Javascript object>"
            ],
            "application/javascript": [
              "download(\"download_0ed206d0-37e6-4220-bef2-e36a627277fe\", \"get_growers_3.csv\", 6713)"
            ]
          },
          "metadata": {}
        }
      ]
    }
  ]
}